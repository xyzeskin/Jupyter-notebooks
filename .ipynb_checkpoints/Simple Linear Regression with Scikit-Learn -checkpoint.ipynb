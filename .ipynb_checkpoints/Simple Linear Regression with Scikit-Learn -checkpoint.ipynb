{
 "cells": [
  {
   "cell_type": "markdown",
   "metadata": {},
   "source": [
    "### Simple Linear Regression"
   ]
  },
  {
   "cell_type": "markdown",
   "metadata": {},
   "source": [
    "The purpose of this brief tutproal is to use scikit-learn to:\n",
    "\n",
    "    1. instatiate a simple liear regression model\n",
    "    2. Train, test, and produce predictions of the model \n",
    "    3. Handle the data pipeline for the model \n",
    "\n",
    "We will study fuel consumption of automobiles in Canada. The data can be found from [here](https://open.canada.ca/data/en/dataset/98f1a129-f628-4ce4-b24d-6f16bf24dd64?cm_mmc=Email_Newsletter-_-Developer_Ed%2BTech-_-WW_WW-_-SkillsNetwork-Courses-IBMDeveloperSkillsNetwork-ML0101EN-SkillsNetwork-20718538&cm_mmca1=000026UJ&cm_mmca2=10006555&cm_mmca3=M12345678&cvosrc=email.Newsletter.M12345678&cvo_campaign=000026UJ&cm_mmc=Email_Newsletter-_-Developer_Ed%2BTech-_-WW_WW-_-SkillsNetwork-Courses-IBMDeveloperSkillsNetwork-ML0101EN-SkillsNetwork-20718538&cm_mmca1=000026UJ&cm_mmca2=10006555&cm_mmca3=M12345678&cvosrc=email.Newsletter.M12345678&cvo_campaign=000026UJ&cm_mmc=Email_Newsletter-_-Developer_Ed%2BTech-_-WW_WW-_-SkillsNetwork-Courses-IBMDeveloperSkillsNetwork-ML0101EN-SkillsNetwork-20718538&cm_mmca1=000026UJ&cm_mmca2=10006555&cm_mmca3=M12345678&cvosrc=email.Newsletter.M12345678&cvo_campaign=000026UJ&cm_mmc=Email_Newsletter-_-Developer_Ed%2BTech-_-WW_WW-_-SkillsNetwork-Courses-IBMDeveloperSkillsNetwork-ML0101EN-SkillsNetwork-20718538&cm_mmca1=000026UJ&cm_mmca2=10006555&cm_mmca3=M12345678&cvosrc=email.Newsletter.M12345678&cvo_campaign=000026UJ)."
   ]
  },
  {
   "cell_type": "code",
   "execution_count": 74,
   "metadata": {},
   "outputs": [],
   "source": [
    "import matplotlib.pyplot as plt\n",
    "import pandas as pd\n",
    "import pylab as pl\n",
    "import numpy as np\n",
    "%matplotlib inline"
   ]
  },
  {
   "cell_type": "markdown",
   "metadata": {},
   "source": [
    "We begin by importing the data and studying the features and the labels. We need to do some data cleaning as we are importing the data not in a perfecto form. The first order of this houskeeping is to rename some of the labels and assign the proper type to them. "
   ]
  },
  {
   "cell_type": "code",
   "execution_count": 68,
   "metadata": {},
   "outputs": [],
   "source": [
    "data = pd.read_csv(r\"\\Original_1995-1999_Fuel_Consumption_Ratings_(2-cycle).csv\", encoding='cp1252').iloc[1:3500]\n",
    "data.rename(columns={\n",
    "                     'Unnamed: 9':'FUEL CONSUMPTION in CITY',\n",
    "                     'Unnamed: 10':'FUEL CONSUMPTION in HWY',\n",
    "                     'Unnamed: 11':'FUEL CONSUMPTION COMB',\n",
    "                     'CO2 EMISSIONS ':'CO2 EMISSIONS'}, inplace=True)\n",
    "\n",
    "floats = ['MODEL', 'ENGINE SIZE', 'CYLINDERS', 'FUEL CONSUMPTION', 'FUEL CONSUMPTION in CITY','FUEL CONSUMPTION in HWY','FUEL CONSUMPTION COMB', 'CO2 EMISSIONS']\n",
    "data[floats] = data[floats].astype(float)"
   ]
  },
  {
   "cell_type": "markdown",
   "metadata": {},
   "source": [
    "We have downloaded a fuel consumption dataset, FuelConsumption.csv, which contains model-specific fuel consumption ratings and estimated carbon dioxide emissions for new light-duty vehicles for retail sale in Canada. We have the following fields in the dataset:\n",
    "\n",
    "    -   MODELYEAR e.g. 2014\n",
    "    -   MAKE e.g. Acura\n",
    "    -   MODEL e.g. ILX\n",
    "    -   VEHICLE CLASS e.g. SUV\n",
    "    -   ENGINE SIZE e.g. 4.7\n",
    "    -   CYLINDERS e.g 6\n",
    "    -   TRANSMISSION e.g. A6\n",
    "    -   FUEL CONSUMPTION in CITY(L/100 km) e.g. 9.9\n",
    "    -   FUEL CONSUMPTION in HWY (L/100 km) e.g. 8.9\n",
    "    -   FUEL CONSUMPTION COMB (L/100 km) e.g. 9.2\n",
    "    -   CO2 EMISSIONS (g/km) e.g. 182   --> low --> 0\n",
    "\n"
   ]
  },
  {
   "cell_type": "markdown",
   "metadata": {},
   "source": [
    "Lets the a look at the data and present descriptive statistics of the numerical variables and visualize them."
   ]
  },
  {
   "cell_type": "code",
   "execution_count": 56,
   "metadata": {},
   "outputs": [
    {
     "data": {
      "text/html": [
       "<div>\n",
       "<style scoped>\n",
       "    .dataframe tbody tr th:only-of-type {\n",
       "        vertical-align: middle;\n",
       "    }\n",
       "\n",
       "    .dataframe tbody tr th {\n",
       "        vertical-align: top;\n",
       "    }\n",
       "\n",
       "    .dataframe thead th {\n",
       "        text-align: right;\n",
       "    }\n",
       "</style>\n",
       "<table border=\"1\" class=\"dataframe\">\n",
       "  <thead>\n",
       "    <tr style=\"text-align: right;\">\n",
       "      <th></th>\n",
       "      <th>MODEL</th>\n",
       "      <th>MAKE</th>\n",
       "      <th>MODEL.1</th>\n",
       "      <th>VEHICLE CLASS</th>\n",
       "      <th>ENGINE SIZE</th>\n",
       "      <th>CYLINDERS</th>\n",
       "      <th>TRANSMISSION</th>\n",
       "      <th>FUEL</th>\n",
       "      <th>FUEL CONSUMPTION</th>\n",
       "      <th>FUEL CONSUMPTION in CITY</th>\n",
       "      <th>FUEL CONSUMPTION in HWY</th>\n",
       "      <th>FUEL CONSUMPTION COMB</th>\n",
       "      <th>CO2 EMISSIONS</th>\n",
       "    </tr>\n",
       "  </thead>\n",
       "  <tbody>\n",
       "    <tr>\n",
       "      <th>1</th>\n",
       "      <td>1995.0</td>\n",
       "      <td>ACURA</td>\n",
       "      <td>INTEGRA</td>\n",
       "      <td>SUBCOMPACT</td>\n",
       "      <td>1.8</td>\n",
       "      <td>4.0</td>\n",
       "      <td>A4</td>\n",
       "      <td>X</td>\n",
       "      <td>10.2</td>\n",
       "      <td>7.0</td>\n",
       "      <td>8.8</td>\n",
       "      <td>32.0</td>\n",
       "      <td>202</td>\n",
       "    </tr>\n",
       "    <tr>\n",
       "      <th>2</th>\n",
       "      <td>1995.0</td>\n",
       "      <td>ACURA</td>\n",
       "      <td>INTEGRA</td>\n",
       "      <td>SUBCOMPACT</td>\n",
       "      <td>1.8</td>\n",
       "      <td>4.0</td>\n",
       "      <td>M5</td>\n",
       "      <td>X</td>\n",
       "      <td>9.6</td>\n",
       "      <td>7.0</td>\n",
       "      <td>8.4</td>\n",
       "      <td>34.0</td>\n",
       "      <td>193</td>\n",
       "    </tr>\n",
       "    <tr>\n",
       "      <th>3</th>\n",
       "      <td>1995.0</td>\n",
       "      <td>ACURA</td>\n",
       "      <td>INTEGRA GS-R</td>\n",
       "      <td>SUBCOMPACT</td>\n",
       "      <td>1.8</td>\n",
       "      <td>4.0</td>\n",
       "      <td>M5</td>\n",
       "      <td>Z</td>\n",
       "      <td>9.4</td>\n",
       "      <td>7.0</td>\n",
       "      <td>8.3</td>\n",
       "      <td>34.0</td>\n",
       "      <td>191</td>\n",
       "    </tr>\n",
       "    <tr>\n",
       "      <th>4</th>\n",
       "      <td>1995.0</td>\n",
       "      <td>ACURA</td>\n",
       "      <td>LEGEND</td>\n",
       "      <td>COMPACT</td>\n",
       "      <td>3.2</td>\n",
       "      <td>6.0</td>\n",
       "      <td>A4</td>\n",
       "      <td>Z</td>\n",
       "      <td>12.6</td>\n",
       "      <td>8.9</td>\n",
       "      <td>10.9</td>\n",
       "      <td>26.0</td>\n",
       "      <td>251</td>\n",
       "    </tr>\n",
       "    <tr>\n",
       "      <th>5</th>\n",
       "      <td>1995.0</td>\n",
       "      <td>ACURA</td>\n",
       "      <td>LEGEND COUPE</td>\n",
       "      <td>COMPACT</td>\n",
       "      <td>3.2</td>\n",
       "      <td>6.0</td>\n",
       "      <td>A4</td>\n",
       "      <td>Z</td>\n",
       "      <td>13.0</td>\n",
       "      <td>9.3</td>\n",
       "      <td>11.3</td>\n",
       "      <td>25.0</td>\n",
       "      <td>260</td>\n",
       "    </tr>\n",
       "  </tbody>\n",
       "</table>\n",
       "</div>"
      ],
      "text/plain": [
       "    MODEL   MAKE       MODEL.1 VEHICLE CLASS  ENGINE SIZE  CYLINDERS  \\\n",
       "1  1995.0  ACURA       INTEGRA    SUBCOMPACT          1.8        4.0   \n",
       "2  1995.0  ACURA       INTEGRA    SUBCOMPACT          1.8        4.0   \n",
       "3  1995.0  ACURA  INTEGRA GS-R    SUBCOMPACT          1.8        4.0   \n",
       "4  1995.0  ACURA        LEGEND       COMPACT          3.2        6.0   \n",
       "5  1995.0  ACURA  LEGEND COUPE       COMPACT          3.2        6.0   \n",
       "\n",
       "  TRANSMISSION FUEL  FUEL CONSUMPTION  FUEL CONSUMPTION in CITY  \\\n",
       "1           A4    X              10.2                       7.0   \n",
       "2           M5    X               9.6                       7.0   \n",
       "3           M5    Z               9.4                       7.0   \n",
       "4           A4    Z              12.6                       8.9   \n",
       "5           A4    Z              13.0                       9.3   \n",
       "\n",
       "   FUEL CONSUMPTION in HWY  FUEL CONSUMPTION COMB CO2 EMISSIONS  \n",
       "1                      8.8                   32.0           202  \n",
       "2                      8.4                   34.0           193  \n",
       "3                      8.3                   34.0           191  \n",
       "4                     10.9                   26.0           251  \n",
       "5                     11.3                   25.0           260  "
      ]
     },
     "execution_count": 56,
     "metadata": {},
     "output_type": "execute_result"
    }
   ],
   "source": [
    "data.head()"
   ]
  },
  {
   "cell_type": "code",
   "execution_count": 59,
   "metadata": {},
   "outputs": [
    {
     "data": {
      "text/html": [
       "<div>\n",
       "<style scoped>\n",
       "    .dataframe tbody tr th:only-of-type {\n",
       "        vertical-align: middle;\n",
       "    }\n",
       "\n",
       "    .dataframe tbody tr th {\n",
       "        vertical-align: top;\n",
       "    }\n",
       "\n",
       "    .dataframe thead th {\n",
       "        text-align: right;\n",
       "    }\n",
       "</style>\n",
       "<table border=\"1\" class=\"dataframe\">\n",
       "  <thead>\n",
       "    <tr style=\"text-align: right;\">\n",
       "      <th></th>\n",
       "      <th>MODEL</th>\n",
       "      <th>ENGINE SIZE</th>\n",
       "      <th>CYLINDERS</th>\n",
       "      <th>FUEL CONSUMPTION</th>\n",
       "      <th>FUEL CONSUMPTION in CITY</th>\n",
       "      <th>FUEL CONSUMPTION in HWY</th>\n",
       "      <th>FUEL CONSUMPTION COMB</th>\n",
       "    </tr>\n",
       "  </thead>\n",
       "  <tbody>\n",
       "    <tr>\n",
       "      <th>count</th>\n",
       "      <td>3499.000000</td>\n",
       "      <td>3499.000000</td>\n",
       "      <td>3499.000000</td>\n",
       "      <td>3499.000000</td>\n",
       "      <td>3499.000000</td>\n",
       "      <td>3499.000000</td>\n",
       "      <td>3499.000000</td>\n",
       "    </tr>\n",
       "    <tr>\n",
       "      <th>mean</th>\n",
       "      <td>1996.882824</td>\n",
       "      <td>3.353158</td>\n",
       "      <td>5.784796</td>\n",
       "      <td>13.203344</td>\n",
       "      <td>9.092798</td>\n",
       "      <td>11.352301</td>\n",
       "      <td>26.412689</td>\n",
       "    </tr>\n",
       "    <tr>\n",
       "      <th>std</th>\n",
       "      <td>1.446586</td>\n",
       "      <td>1.385782</td>\n",
       "      <td>1.645458</td>\n",
       "      <td>3.243432</td>\n",
       "      <td>2.254253</td>\n",
       "      <td>2.766073</td>\n",
       "      <td>6.727908</td>\n",
       "    </tr>\n",
       "    <tr>\n",
       "      <th>min</th>\n",
       "      <td>1995.000000</td>\n",
       "      <td>1.000000</td>\n",
       "      <td>2.000000</td>\n",
       "      <td>5.400000</td>\n",
       "      <td>4.300000</td>\n",
       "      <td>4.900000</td>\n",
       "      <td>13.000000</td>\n",
       "    </tr>\n",
       "    <tr>\n",
       "      <th>25%</th>\n",
       "      <td>1996.000000</td>\n",
       "      <td>2.200000</td>\n",
       "      <td>4.000000</td>\n",
       "      <td>10.800000</td>\n",
       "      <td>7.500000</td>\n",
       "      <td>9.400000</td>\n",
       "      <td>22.000000</td>\n",
       "    </tr>\n",
       "    <tr>\n",
       "      <th>50%</th>\n",
       "      <td>1997.000000</td>\n",
       "      <td>3.000000</td>\n",
       "      <td>6.000000</td>\n",
       "      <td>12.900000</td>\n",
       "      <td>8.600000</td>\n",
       "      <td>11.000000</td>\n",
       "      <td>26.000000</td>\n",
       "    </tr>\n",
       "    <tr>\n",
       "      <th>75%</th>\n",
       "      <td>1998.000000</td>\n",
       "      <td>4.300000</td>\n",
       "      <td>6.000000</td>\n",
       "      <td>15.100000</td>\n",
       "      <td>10.700000</td>\n",
       "      <td>13.100000</td>\n",
       "      <td>30.000000</td>\n",
       "    </tr>\n",
       "    <tr>\n",
       "      <th>max</th>\n",
       "      <td>1999.000000</td>\n",
       "      <td>8.000000</td>\n",
       "      <td>12.000000</td>\n",
       "      <td>26.100000</td>\n",
       "      <td>16.100000</td>\n",
       "      <td>21.300000</td>\n",
       "      <td>58.000000</td>\n",
       "    </tr>\n",
       "  </tbody>\n",
       "</table>\n",
       "</div>"
      ],
      "text/plain": [
       "             MODEL  ENGINE SIZE    CYLINDERS  FUEL CONSUMPTION  \\\n",
       "count  3499.000000  3499.000000  3499.000000       3499.000000   \n",
       "mean   1996.882824     3.353158     5.784796         13.203344   \n",
       "std       1.446586     1.385782     1.645458          3.243432   \n",
       "min    1995.000000     1.000000     2.000000          5.400000   \n",
       "25%    1996.000000     2.200000     4.000000         10.800000   \n",
       "50%    1997.000000     3.000000     6.000000         12.900000   \n",
       "75%    1998.000000     4.300000     6.000000         15.100000   \n",
       "max    1999.000000     8.000000    12.000000         26.100000   \n",
       "\n",
       "       FUEL CONSUMPTION in CITY  FUEL CONSUMPTION in HWY  \\\n",
       "count               3499.000000              3499.000000   \n",
       "mean                   9.092798                11.352301   \n",
       "std                    2.254253                 2.766073   \n",
       "min                    4.300000                 4.900000   \n",
       "25%                    7.500000                 9.400000   \n",
       "50%                    8.600000                11.000000   \n",
       "75%                   10.700000                13.100000   \n",
       "max                   16.100000                21.300000   \n",
       "\n",
       "       FUEL CONSUMPTION COMB  \n",
       "count            3499.000000  \n",
       "mean               26.412689  \n",
       "std                 6.727908  \n",
       "min                13.000000  \n",
       "25%                22.000000  \n",
       "50%                26.000000  \n",
       "75%                30.000000  \n",
       "max                58.000000  "
      ]
     },
     "execution_count": 59,
     "metadata": {},
     "output_type": "execute_result"
    }
   ],
   "source": [
    "data[floats].describe()"
   ]
  },
  {
   "cell_type": "code",
   "execution_count": 90,
   "metadata": {},
   "outputs": [
    {
     "data": {
      "text/plain": [
       "array([[<AxesSubplot:title={'center':'ENGINE SIZE'}>,\n",
       "        <AxesSubplot:title={'center':'CYLINDERS'}>],\n",
       "       [<AxesSubplot:title={'center':'FUEL CONSUMPTION'}>,\n",
       "        <AxesSubplot:title={'center':'CO2 EMISSIONS'}>]], dtype=object)"
      ]
     },
     "execution_count": 90,
     "metadata": {},
     "output_type": "execute_result"
    },
    {
     "data": {
      "image/png": "[encoded data removed]",
      "text/plain": [
       "<Figure size 432x288 with 4 Axes>"
      ]
     },
     "metadata": {
      "needs_background": "light"
     },
     "output_type": "display_data"
    }
   ],
   "source": [
    "var = ['ENGINE SIZE', 'CYLINDERS', 'FUEL CONSUMPTION', 'CO2 EMISSIONS']\n",
    "data[var].hist()#pd.plotting.scatter_matrix(data[var], alpha=0.2)\n"
   ]
  },
  {
   "cell_type": "markdown",
   "metadata": {},
   "source": [
    "As we are building a regression around emmissions, let's plot each of these variables with respect to it to see how linear the relationship is."
   ]
  },
  {
   "cell_type": "code",
   "execution_count": 91,
   "metadata": {},
   "outputs": [
    {
     "data": {
      "image/png": "[encoded data removed]",
      "text/plain": [
       "<Figure size 432x288 with 1 Axes>"
      ]
     },
     "metadata": {
      "needs_background": "light"
     },
     "output_type": "display_data"
    },
    {
     "data": {
      "image/png": "[encoded data removed]",
      "text/plain": [
       "<Figure size 432x288 with 1 Axes>"
      ]
     },
     "metadata": {
      "needs_background": "light"
     },
     "output_type": "display_data"
    },
    {
     "data": {
      "image/png": "[encoded data removed]",
      "text/plain": [
       "<Figure size 432x288 with 1 Axes>"
      ]
     },
     "metadata": {
      "needs_background": "light"
     },
     "output_type": "display_data"
    }
   ],
   "source": [
    "plt.scatter(data['FUEL CONSUMPTION'], data['CO2 EMISSIONS'],  color='blue')\n",
    "plt.xlabel(\"FUEL CONSUMPTION\")\n",
    "plt.ylabel(\"CO2 EMMISSIONS\")\n",
    "plt.show()\n",
    "\n",
    "plt.scatter(data['ENGINE SIZE'], data['CO2 EMISSIONS'],  color='blue')\n",
    "plt.xlabel('ENGINE SIZE')\n",
    "plt.ylabel(\"CO2 EMMISSIONS\")\n",
    "plt.show()\n",
    "\n",
    "plt.scatter(data['CYLINDERS'], data['CO2 EMISSIONS'],  color='blue')\n",
    "plt.xlabel('CYLINDERS')\n",
    "plt.ylabel(\"CO2 EMMISSIONS\")\n",
    "plt.show()"
   ]
  },
  {
   "cell_type": "markdown",
   "metadata": {},
   "source": [
    "As we are able to visually confirm that the above variables have a linear-ish relationship with the CO2 emmissions, we proceed to model the relationship via linear regression. Let us begin by creating the test and traning sets.\n",
    "\n",
    "We use a numpy to construct the two sets of data by randomly sampling 80% for the traning and 20% for the testing. "
   ]
  },
  {
   "cell_type": "code",
   "execution_count": 92,
   "metadata": {},
   "outputs": [],
   "source": [
    "msk = np.random.rand(len(data)) < 0.8\n",
    "train = data[var][msk]\n",
    "test = data[var][~msk]"
   ]
  },
  {
   "cell_type": "code",
   "execution_count": 95,
   "metadata": {},
   "outputs": [
    {
     "name": "stdout",
     "output_type": "stream",
     "text": [
      "Coefficients:  [[ 6.74147264 -3.58765595 18.25580854]]\n",
      "Intercept:  [19.08431611]\n"
     ]
    }
   ],
   "source": [
    "from sklearn import linear_model\n",
    "regr = linear_model.LinearRegression()\n",
    "train_x = np.asanyarray(train[['ENGINE SIZE','CYLINDERS','FUEL CONSUMPTION']])\n",
    "train_y = np.asanyarray(train[['CO2 EMISSIONS']])\n",
    "regr.fit(train_x, train_y)\n",
    "# print coefficients\n",
    "print ('Coefficients: ', regr.coef_)\n",
    "print ('Intercept: ',regr.intercept_)"
   ]
  },
  {
   "cell_type": "markdown",
   "metadata": {},
   "source": [
    "#### Evaluation\n",
    "\n",
    "\n",
    "Evaluation metrics provide a key role in the development of a model, as it sheds light to the areas that are in the need of improvement.\n",
    "\n",
    "Let us recap the recount the most popular evaluation metrics: \n",
    "\n",
    "```\n",
    "- Mean absolute error: The mean of the absolute value of the errors.\n",
    "- Mean Squared Error (MSE): The mean of the squared error. It’s more popular than Mean absolute duew to the fact that it penalizes exponentially more the larger the error is.\n",
    "- Root Mean Squared Error (RMSE).\n",
    "- R-squared is a standard metric for the accuracy of your model. Roughly, it expressed the portion of the variation the model is abel to explain. The higher the R-squared, the better the model fits your data. .\n",
    "```\n",
    "\n",
    "Let's see how these statistics play out in our example."
   ]
  },
  {
   "cell_type": "code",
   "execution_count": 102,
   "metadata": {},
   "outputs": [
    {
     "name": "stdout",
     "output_type": "stream",
     "text": [
      "Mean absolute error: 68.17\n",
      "Residual sum of squares (MSE): 7421.39\n",
      "R2-score: 0.96\n"
     ]
    }
   ],
   "source": [
    "from sklearn.metrics import r2_score\n",
    "\n",
    "test_x = np.asanyarray(test[['ENGINE SIZE','CYLINDERS','FUEL CONSUMPTION']])\n",
    "test_y = np.asanyarray(test['CO2 EMISSIONS'])\n",
    "test_y_ = regr.predict(test_x)\n",
    "\n",
    "print(\"Mean absolute error: %.2f\" % np.mean(np.absolute(test_y_ - test_y)))\n",
    "print(\"Residual sum of squares (MSE): %.2f\" % np.mean((test_y_ - test_y) ** 2))\n",
    "print(\"R2-score: %.2f\" % r2_score(test_y , test_y_) )"
   ]
  },
  {
   "cell_type": "markdown",
   "metadata": {},
   "source": [
    "Thank you joining this brief tutorial on linear regression with scikit-learn "
   ]
  }
 ],
 "metadata": {
  "kernelspec": {
   "display_name": "Python 3",
   "language": "python",
   "name": "python3"
  },
  "language_info": {
   "codemirror_mode": {
    "name": "ipython",
    "version": 3
   },
   "file_extension": ".py",
   "mimetype": "text/x-python",
   "name": "python",
   "nbconvert_exporter": "python",
   "pygments_lexer": "ipython3",
   "version": "3.7.9"
  }
 },
 "nbformat": 4,
 "nbformat_minor": 4
}
